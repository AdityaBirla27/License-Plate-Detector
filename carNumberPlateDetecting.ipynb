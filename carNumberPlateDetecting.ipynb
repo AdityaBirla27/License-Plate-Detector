{
  "nbformat": 4,
  "nbformat_minor": 0,
  "metadata": {
    "colab": {
      "name": "Number Plate .ipynb",
      "provenance": [],
      "mount_file_id": "1xF8Yad4uC7PsnKm7-oiVyGu1Ge8794vm",
      "authorship_tag": "ABX9TyNe0/tiLcMlwuQVrrvzVDkp",
      "include_colab_link": true
    },
    "kernelspec": {
      "name": "python3",
      "display_name": "Python 3"
    }
  },
  "cells": [
    {
      "cell_type": "markdown",
      "metadata": {
        "id": "view-in-github",
        "colab_type": "text"
      },
      "source": [
        "<a href=\"https://colab.research.google.com/github/AdityaBirla27/Gesture-Controlled-Gaming/blob/master/Number_Plate_.ipynb\" target=\"_parent\"><img src=\"https://colab.research.google.com/assets/colab-badge.svg\" alt=\"Open In Colab\"/></a>"
      ]
    },
    {
      "cell_type": "code",
      "metadata": {
        "id": "Ch0RiL_rQx58"
      },
      "source": [
        "import matplotlib.pyplot as plt"
      ],
      "execution_count": null,
      "outputs": []
    },
    {
      "cell_type": "code",
      "metadata": {
        "id": "yI3j6M2MQ5cq"
      },
      "source": [
        "import numpy as np\n",
        "import cv2\n",
        "\n",
        "# Match contours to license plate or character template\n",
        "def find_contours(dimensions, img) :\n",
        "\n",
        "    # Find all contours in the image\n",
        "    cntrs, _ = cv2.findContours(img.copy(), cv2.RETR_TREE, cv2.CHAIN_APPROX_SIMPLE)\n",
        "\n",
        "    # Retrieve potential dimensions\n",
        "    lower_width = dimensions[0]\n",
        "    upper_width = dimensions[1]\n",
        "    lower_height = dimensions[2]\n",
        "    upper_height = dimensions[3]\n",
        "    \n",
        "    # Check largest 5 or  15 contours for license plate or character respectively\n",
        "    cntrs = sorted(cntrs, key=cv2.contourArea, reverse=True)[:15]\n",
        "    \n",
        "    ii = cv2.imread('contour.jpg')\n",
        "    \n",
        "    x_cntr_list = []\n",
        "    target_contours = []\n",
        "    img_res = []\n",
        "    for cntr in cntrs :\n",
        "        #detects contour in binary image and returns the coordinates of rectangle enclosing it\n",
        "        intX, intY, intWidth, intHeight = cv2.boundingRect(cntr)\n",
        "        \n",
        "        #checking the dimensions of the contour to filter out the characters by contour's size\n",
        "        if intWidth > lower_width and intWidth < upper_width and intHeight > lower_height and intHeight < upper_height :\n",
        "            x_cntr_list.append(intX) #stores the x coordinate of the character's contour, to used later for indexing the contours\n",
        "\n",
        "            char_copy = np.zeros((44,24))\n",
        "            #extracting each character using the enclosing rectangle's coordinates.\n",
        "            char = img[intY:intY+intHeight, intX:intX+intWidth]\n",
        "            char = cv2.resize(char, (20, 40))\n",
        "            \n",
        "            cv2.rectangle(ii, (intX,intY), (intWidth+intX, intY+intHeight), (50,21,200), 2)\n",
        "            plt.imshow(ii, cmap='gray')\n",
        "\n",
        "#             Make result formatted for classification: invert colors\n",
        "            char = cv2.subtract(255, char)\n",
        "\n",
        "            # Resize the image to 24x44 with black border\n",
        "            char_copy[2:42, 2:22] = char\n",
        "            char_copy[0:2, :] = 0\n",
        "            char_copy[:, 0:2] = 0\n",
        "            char_copy[42:44, :] = 0\n",
        "            char_copy[:, 22:24] = 0\n",
        "\n",
        "            img_res.append(char_copy) #List that stores the character's binary image (unsorted)\n",
        "            \n",
        "    #Return characters on ascending order with respect to the x-coordinate (most-left character first)\n",
        "            \n",
        "    plt.show()\n",
        "    #arbitrary function that stores sorted list of character indeces\n",
        "    indices = sorted(range(len(x_cntr_list)), key=lambda k: x_cntr_list[k])\n",
        "    img_res_copy = []\n",
        "    for idx in indices:\n",
        "        img_res_copy.append(img_res[idx])# stores character images according to their index\n",
        "    img_res = np.array(img_res_copy)\n",
        "\n",
        "    return img_res"
      ],
      "execution_count": null,
      "outputs": []
    },
    {
      "cell_type": "code",
      "metadata": {
        "id": "S7eEkGTGQ_4h"
      },
      "source": [
        "# Find characters in the resulting images\n",
        "def segment_characters(image) :\n",
        "\n",
        "    # Preprocess cropped license plate image\n",
        "    img_lp = cv2.resize(image, (333, 75))\n",
        "    img_gray_lp = cv2.cvtColor(img_lp, cv2.COLOR_BGR2GRAY)\n",
        "    _, img_binary_lp = cv2.threshold(img_gray_lp, 200, 255, cv2.THRESH_BINARY+cv2.THRESH_OTSU)\n",
        "    img_binary_lp = cv2.erode(img_binary_lp, (3,3))\n",
        "    img_binary_lp = cv2.dilate(img_binary_lp, (3,3))\n",
        "\n",
        "    LP_WIDTH = img_binary_lp.shape[0]\n",
        "    LP_HEIGHT = img_binary_lp.shape[1]\n",
        "\n",
        "    # Make borders white\n",
        "    img_binary_lp[0:3,:] = 255\n",
        "    img_binary_lp[:,0:3] = 255\n",
        "    img_binary_lp[72:75,:] = 255\n",
        "    img_binary_lp[:,330:333] = 255\n",
        "\n",
        "    # Estimations of character contours sizes of cropped license plates\n",
        "    dimensions = [LP_WIDTH/6,\n",
        "                       LP_WIDTH/2,\n",
        "                       LP_HEIGHT/10,\n",
        "                       2*LP_HEIGHT/3]\n",
        "    plt.imshow(img_binary_lp, cmap='gray')\n",
        "    plt.show()\n",
        "    cv2.imwrite('contour.jpg',img_binary_lp)\n",
        "\n",
        "    # Get contours within cropped license plate\n",
        "    char_list = find_contours(dimensions, img_binary_lp)\n",
        "\n",
        "    return char_list"
      ],
      "execution_count": null,
      "outputs": []
    },
    {
      "cell_type": "code",
      "metadata": {
        "id": "x3EVu_NFRAyH",
        "outputId": "1df17d2a-e2fe-437d-dcc8-eab6397049ff",
        "colab": {
          "base_uri": "https://localhost:8080/",
          "height": 237
        }
      },
      "source": [
        "img = cv2.imread('car_plate.png')\n",
        "char = segment_characters(img)"
      ],
      "execution_count": null,
      "outputs": [
        {
          "output_type": "display_data",
          "data": {
            "image/png": "[encoded data removed]",
            "text/plain": [
              "<Figure size 432x288 with 1 Axes>"
            ]
          },
          "metadata": {
            "tags": [],
            "needs_background": "light"
          }
        },
        {
          "output_type": "display_data",
          "data": {
            "image/png": "[encoded data removed]",
            "text/plain": [
              "<Figure size 432x288 with 1 Axes>"
            ]
          },
          "metadata": {
            "tags": [],
            "needs_background": "light"
          }
        }
      ]
    },
    {
      "cell_type": "code",
      "metadata": {
        "id": "RA1JNM-PREng",
        "outputId": "7edcea75-7464-474f-9a95-197fa6a88823",
        "colab": {
          "base_uri": "https://localhost:8080/",
          "height": 83
        }
      },
      "source": [
        "for i in range(10):\n",
        "    plt.subplot(1, 10, i+1)\n",
        "    plt.imshow(char[i], cmap='gray')\n",
        "    plt.axis('off')"
      ],
      "execution_count": null,
      "outputs": [
        {
          "output_type": "display_data",
          "data": {
            "image/png": "[encoded data removed]",
            "text/plain": [
              "<Figure size 432x288 with 10 Axes>"
            ]
          },
          "metadata": {
            "tags": [],
            "needs_background": "light"
          }
        }
      ]
    },
    {
      "cell_type": "code",
      "metadata": {
        "id": "VaMdeaujRr1R"
      },
      "source": [
        "import tensorflow as tf\n",
        "import zipfile\n",
        "with zipfile.ZipFile(\"data.zip\",\"r\") as zip_ref:\n",
        "    zip_ref.extractall(\"targetdir\")\n"
      ],
      "execution_count": null,
      "outputs": []
    },
    {
      "cell_type": "code",
      "metadata": {
        "id": "7z-bLzELTMOS",
        "outputId": "e41a1f24-b7e3-4488-d8e7-63062cb024a3",
        "colab": {
          "base_uri": "https://localhost:8080/"
        }
      },
      "source": [
        "from tensorflow.keras.preprocessing.image import ImageDataGenerator\n",
        "train_datagen = ImageDataGenerator(rescale=1./255, width_shift_range=0.1, height_shift_range=0.1)\n",
        "train_generator = train_datagen.flow_from_directory('targetdir/data/train',target_size=(28,28),batch_size=1,class_mode='categorical')\n",
        "\n",
        "validation_generator = train_datagen.flow_from_directory('targetdir/data/val',  target_size=(28,28),batch_size=1,class_mode='categorical')"
      ],
      "execution_count": 46,
      "outputs": [
        {
          "output_type": "stream",
          "text": [
            "Found 864 images belonging to 36 classes.\n",
            "Found 216 images belonging to 36 classes.\n"
          ],
          "name": "stdout"
        }
      ]
    },
    {
      "cell_type": "code",
      "metadata": {
        "id": "wqdm20jvandO"
      },
      "source": [
        "from tensorflow.keras.models import Sequential\n",
        "from tensorflow.keras.layers import Dense, Flatten, MaxPooling2D, Dropout, Conv2D\n",
        "from tensorflow.keras import optimizers"
      ],
      "execution_count": 47,
      "outputs": []
    },
    {
      "cell_type": "code",
      "metadata": {
        "id": "mFHcYNGGZ3vI"
      },
      "source": [
        "model = Sequential()\n",
        "model.add(Conv2D(32, (24,24), input_shape=(28, 28, 3), activation='relu', padding='same'))\n",
        "# model.add(Conv2D(32, (20,20), input_shape=(28, 28, 3), activation='relu', padding='same'))\n",
        "# model.add(Conv2D(32, (20,20), input_shape=(28, 28, 3), activation='relu', padding='same'))\n",
        "model.add(MaxPooling2D(pool_size=(2, 2)))\n",
        "model.add(Dropout(0.4))\n",
        "model.add(Flatten())\n",
        "model.add(Dense(128, activation='relu'))\n",
        "model.add(Dense(36, activation='softmax'))\n",
        "\n",
        "model.compile(loss='categorical_crossentropy', optimizer=optimizers.Adam(lr=0.00001), metrics=['accuracy'])"
      ],
      "execution_count": 48,
      "outputs": []
    },
    {
      "cell_type": "code",
      "metadata": {
        "id": "leqpV3HdThVH"
      },
      "source": [
        "class stop_training_callback(tf.keras.callbacks.Callback):\n",
        "  def on_epoch_end(self, epoch, logs={}):\n",
        "    if(logs.get('val_acc') > 0.992):\n",
        "      self.model.stop_training = True"
      ],
      "execution_count": 49,
      "outputs": []
    },
    {
      "cell_type": "code",
      "metadata": {
        "id": "fp8AOLjJZ2WX"
      },
      "source": [
        "import datetime\n",
        "!rm -rf logs\n",
        "log_dir=\"logs/fit/\" + datetime.datetime.now().strftime(\"%Y%m%d-%H%M%S\")\n",
        "tensorboard_callback = tf.keras.callbacks.TensorBoard(log_dir=log_dir, histogram_freq=1)"
      ],
      "execution_count": 50,
      "outputs": []
    },
    {
      "cell_type": "code",
      "metadata": {
        "id": "2OwQZn8CiFjz",
        "outputId": "cefb6f8f-d7c5-43c1-a5ec-5ca423b2bf14",
        "colab": {
          "base_uri": "https://localhost:8080/"
        }
      },
      "source": [
        "batch_size = 1\n",
        "callbacks = [tensorboard_callback, stop_training_callback()]\n",
        "model.fit_generator(\n",
        "      train_generator,\n",
        "      steps_per_epoch = train_generator.samples // batch_size,\n",
        "      validation_data = validation_generator, \n",
        "      validation_steps = validation_generator.samples // batch_size,\n",
        "      epochs = 80, \n",
        "      callbacks= tf.keras.callbacks.Callback())"
      ],
      "execution_count": 60,
      "outputs": [
        {
          "output_type": "stream",
          "text": [
            "Epoch 1/80\n",
            "864/864 [==============================] - 16s 19ms/step - loss: 1.3861 - accuracy: 0.6111 - val_loss: 1.1949 - val_accuracy: 0.7731\n",
            "Epoch 2/80\n",
            "864/864 [==============================] - 16s 19ms/step - loss: 1.2141 - accuracy: 0.6505 - val_loss: 1.0232 - val_accuracy: 0.8009\n",
            "Epoch 3/80\n",
            "864/864 [==============================] - 17s 19ms/step - loss: 1.0500 - accuracy: 0.7199 - val_loss: 0.8942 - val_accuracy: 0.8056\n",
            "Epoch 4/80\n",
            "864/864 [==============================] - 16s 19ms/step - loss: 1.0057 - accuracy: 0.7338 - val_loss: 0.9110 - val_accuracy: 0.7963\n",
            "Epoch 5/80\n",
            "864/864 [==============================] - 16s 19ms/step - loss: 0.8598 - accuracy: 0.7755 - val_loss: 0.7716 - val_accuracy: 0.8426\n",
            "Epoch 6/80\n",
            "864/864 [==============================] - 17s 19ms/step - loss: 0.8282 - accuracy: 0.7731 - val_loss: 0.6815 - val_accuracy: 0.8426\n",
            "Epoch 7/80\n",
            "864/864 [==============================] - 17s 19ms/step - loss: 0.7393 - accuracy: 0.7917 - val_loss: 0.6456 - val_accuracy: 0.8333\n",
            "Epoch 8/80\n",
            "864/864 [==============================] - 17s 19ms/step - loss: 0.6612 - accuracy: 0.8137 - val_loss: 0.6780 - val_accuracy: 0.8380\n",
            "Epoch 9/80\n",
            "864/864 [==============================] - 17s 19ms/step - loss: 0.6047 - accuracy: 0.8275 - val_loss: 0.5654 - val_accuracy: 0.8657\n",
            "Epoch 10/80\n",
            "864/864 [==============================] - 17s 19ms/step - loss: 0.6040 - accuracy: 0.8287 - val_loss: 0.4968 - val_accuracy: 0.8935\n",
            "Epoch 11/80\n",
            "864/864 [==============================] - 17s 19ms/step - loss: 0.5518 - accuracy: 0.8356 - val_loss: 0.4929 - val_accuracy: 0.8935\n",
            "Epoch 12/80\n",
            "864/864 [==============================] - 17s 19ms/step - loss: 0.5237 - accuracy: 0.8438 - val_loss: 0.4463 - val_accuracy: 0.9120\n",
            "Epoch 13/80\n",
            "864/864 [==============================] - 17s 19ms/step - loss: 0.5155 - accuracy: 0.8449 - val_loss: 0.4322 - val_accuracy: 0.9074\n",
            "Epoch 14/80\n",
            "864/864 [==============================] - 17s 19ms/step - loss: 0.4599 - accuracy: 0.8669 - val_loss: 0.4288 - val_accuracy: 0.9213\n",
            "Epoch 15/80\n",
            "864/864 [==============================] - 17s 19ms/step - loss: 0.4207 - accuracy: 0.8773 - val_loss: 0.3688 - val_accuracy: 0.9120\n",
            "Epoch 16/80\n",
            "864/864 [==============================] - 17s 20ms/step - loss: 0.4194 - accuracy: 0.8854 - val_loss: 0.3817 - val_accuracy: 0.8889\n",
            "Epoch 17/80\n",
            "864/864 [==============================] - 17s 19ms/step - loss: 0.4146 - accuracy: 0.8773 - val_loss: 0.3462 - val_accuracy: 0.9120\n",
            "Epoch 18/80\n",
            "864/864 [==============================] - 17s 19ms/step - loss: 0.3699 - accuracy: 0.8889 - val_loss: 0.3450 - val_accuracy: 0.9306\n",
            "Epoch 19/80\n",
            "864/864 [==============================] - 16s 19ms/step - loss: 0.3422 - accuracy: 0.9005 - val_loss: 0.3201 - val_accuracy: 0.9259\n",
            "Epoch 20/80\n",
            "864/864 [==============================] - 16s 19ms/step - loss: 0.3449 - accuracy: 0.8924 - val_loss: 0.2825 - val_accuracy: 0.9167\n",
            "Epoch 21/80\n",
            "864/864 [==============================] - 17s 19ms/step - loss: 0.3043 - accuracy: 0.9190 - val_loss: 0.2536 - val_accuracy: 0.9491\n",
            "Epoch 22/80\n",
            "864/864 [==============================] - 17s 19ms/step - loss: 0.3097 - accuracy: 0.9074 - val_loss: 0.2578 - val_accuracy: 0.9537\n",
            "Epoch 23/80\n",
            "864/864 [==============================] - 16s 19ms/step - loss: 0.2913 - accuracy: 0.9178 - val_loss: 0.2280 - val_accuracy: 0.9444\n",
            "Epoch 24/80\n",
            "864/864 [==============================] - 17s 19ms/step - loss: 0.2489 - accuracy: 0.9225 - val_loss: 0.2506 - val_accuracy: 0.9352\n",
            "Epoch 25/80\n",
            "864/864 [==============================] - 17s 19ms/step - loss: 0.2684 - accuracy: 0.9167 - val_loss: 0.2288 - val_accuracy: 0.9352\n",
            "Epoch 26/80\n",
            "864/864 [==============================] - 17s 19ms/step - loss: 0.2489 - accuracy: 0.9294 - val_loss: 0.2080 - val_accuracy: 0.9537\n",
            "Epoch 27/80\n",
            "864/864 [==============================] - 17s 19ms/step - loss: 0.2388 - accuracy: 0.9259 - val_loss: 0.1941 - val_accuracy: 0.9444\n",
            "Epoch 28/80\n",
            "864/864 [==============================] - 16s 19ms/step - loss: 0.2281 - accuracy: 0.9259 - val_loss: 0.1965 - val_accuracy: 0.9444\n",
            "Epoch 29/80\n",
            "864/864 [==============================] - 17s 19ms/step - loss: 0.2126 - accuracy: 0.9387 - val_loss: 0.2023 - val_accuracy: 0.9630\n",
            "Epoch 30/80\n",
            "864/864 [==============================] - 17s 19ms/step - loss: 0.1909 - accuracy: 0.9468 - val_loss: 0.1726 - val_accuracy: 0.9444\n",
            "Epoch 31/80\n",
            "864/864 [==============================] - 17s 19ms/step - loss: 0.2032 - accuracy: 0.9410 - val_loss: 0.1664 - val_accuracy: 0.9676\n",
            "Epoch 32/80\n",
            "864/864 [==============================] - 17s 19ms/step - loss: 0.2138 - accuracy: 0.9340 - val_loss: 0.2076 - val_accuracy: 0.9491\n",
            "Epoch 33/80\n",
            "864/864 [==============================] - 17s 19ms/step - loss: 0.1855 - accuracy: 0.9433 - val_loss: 0.1847 - val_accuracy: 0.9537\n",
            "Epoch 34/80\n",
            "864/864 [==============================] - 17s 19ms/step - loss: 0.2045 - accuracy: 0.9468 - val_loss: 0.1475 - val_accuracy: 0.9630\n",
            "Epoch 35/80\n",
            "864/864 [==============================] - 17s 19ms/step - loss: 0.1718 - accuracy: 0.9421 - val_loss: 0.1666 - val_accuracy: 0.9491\n",
            "Epoch 36/80\n",
            "864/864 [==============================] - 17s 19ms/step - loss: 0.1503 - accuracy: 0.9641 - val_loss: 0.1538 - val_accuracy: 0.9537\n",
            "Epoch 37/80\n",
            "864/864 [==============================] - 17s 19ms/step - loss: 0.1794 - accuracy: 0.9502 - val_loss: 0.1440 - val_accuracy: 0.9537\n",
            "Epoch 38/80\n",
            "864/864 [==============================] - 17s 19ms/step - loss: 0.1722 - accuracy: 0.9525 - val_loss: 0.1466 - val_accuracy: 0.9491\n",
            "Epoch 39/80\n",
            "864/864 [==============================] - 17s 19ms/step - loss: 0.1623 - accuracy: 0.9479 - val_loss: 0.1095 - val_accuracy: 0.9722\n",
            "Epoch 40/80\n",
            "864/864 [==============================] - 17s 19ms/step - loss: 0.1472 - accuracy: 0.9549 - val_loss: 0.1579 - val_accuracy: 0.9537\n",
            "Epoch 41/80\n",
            "864/864 [==============================] - 17s 19ms/step - loss: 0.1414 - accuracy: 0.9549 - val_loss: 0.1400 - val_accuracy: 0.9583\n",
            "Epoch 42/80\n",
            "864/864 [==============================] - 17s 19ms/step - loss: 0.1469 - accuracy: 0.9606 - val_loss: 0.1214 - val_accuracy: 0.9630\n",
            "Epoch 43/80\n",
            "864/864 [==============================] - 17s 20ms/step - loss: 0.1429 - accuracy: 0.9479 - val_loss: 0.1285 - val_accuracy: 0.9722\n",
            "Epoch 44/80\n",
            "864/864 [==============================] - 17s 19ms/step - loss: 0.1343 - accuracy: 0.9641 - val_loss: 0.1205 - val_accuracy: 0.9722\n",
            "Epoch 45/80\n",
            "864/864 [==============================] - 17s 19ms/step - loss: 0.1219 - accuracy: 0.9688 - val_loss: 0.0949 - val_accuracy: 0.9815\n",
            "Epoch 46/80\n",
            "864/864 [==============================] - 17s 19ms/step - loss: 0.1109 - accuracy: 0.9711 - val_loss: 0.1010 - val_accuracy: 0.9722\n",
            "Epoch 47/80\n",
            "864/864 [==============================] - 17s 19ms/step - loss: 0.1008 - accuracy: 0.9757 - val_loss: 0.1244 - val_accuracy: 0.9676\n",
            "Epoch 48/80\n",
            "864/864 [==============================] - 17s 19ms/step - loss: 0.1035 - accuracy: 0.9711 - val_loss: 0.0881 - val_accuracy: 0.9815\n",
            "Epoch 49/80\n",
            "864/864 [==============================] - 17s 19ms/step - loss: 0.1131 - accuracy: 0.9722 - val_loss: 0.1027 - val_accuracy: 0.9722\n",
            "Epoch 50/80\n",
            "864/864 [==============================] - 17s 19ms/step - loss: 0.1170 - accuracy: 0.9653 - val_loss: 0.1033 - val_accuracy: 0.9769\n",
            "Epoch 51/80\n",
            "864/864 [==============================] - 17s 20ms/step - loss: 0.1117 - accuracy: 0.9641 - val_loss: 0.0742 - val_accuracy: 0.9815\n",
            "Epoch 52/80\n",
            "864/864 [==============================] - 17s 20ms/step - loss: 0.1202 - accuracy: 0.9653 - val_loss: 0.0915 - val_accuracy: 0.9722\n",
            "Epoch 53/80\n",
            "864/864 [==============================] - 17s 20ms/step - loss: 0.1194 - accuracy: 0.9606 - val_loss: 0.1190 - val_accuracy: 0.9630\n",
            "Epoch 54/80\n",
            "864/864 [==============================] - 17s 20ms/step - loss: 0.1052 - accuracy: 0.9653 - val_loss: 0.1210 - val_accuracy: 0.9722\n",
            "Epoch 55/80\n",
            "864/864 [==============================] - 17s 20ms/step - loss: 0.1121 - accuracy: 0.9688 - val_loss: 0.0686 - val_accuracy: 0.9815\n",
            "Epoch 56/80\n",
            "864/864 [==============================] - 17s 19ms/step - loss: 0.0744 - accuracy: 0.9792 - val_loss: 0.0910 - val_accuracy: 0.9769\n",
            "Epoch 57/80\n",
            "864/864 [==============================] - 17s 19ms/step - loss: 0.0995 - accuracy: 0.9653 - val_loss: 0.0987 - val_accuracy: 0.9676\n",
            "Epoch 58/80\n",
            "864/864 [==============================] - 17s 20ms/step - loss: 0.0956 - accuracy: 0.9745 - val_loss: 0.0699 - val_accuracy: 0.9815\n",
            "Epoch 59/80\n",
            "864/864 [==============================] - 17s 19ms/step - loss: 0.1085 - accuracy: 0.9688 - val_loss: 0.0958 - val_accuracy: 0.9769\n",
            "Epoch 60/80\n",
            "864/864 [==============================] - 17s 19ms/step - loss: 0.0776 - accuracy: 0.9769 - val_loss: 0.1000 - val_accuracy: 0.9630\n",
            "Epoch 61/80\n",
            "864/864 [==============================] - 17s 20ms/step - loss: 0.0958 - accuracy: 0.9711 - val_loss: 0.0770 - val_accuracy: 0.9722\n",
            "Epoch 62/80\n",
            "864/864 [==============================] - 17s 19ms/step - loss: 0.1030 - accuracy: 0.9757 - val_loss: 0.0719 - val_accuracy: 0.9815\n",
            "Epoch 63/80\n",
            "864/864 [==============================] - 17s 19ms/step - loss: 0.0863 - accuracy: 0.9757 - val_loss: 0.0975 - val_accuracy: 0.9676\n",
            "Epoch 64/80\n",
            "864/864 [==============================] - 17s 19ms/step - loss: 0.1021 - accuracy: 0.9676 - val_loss: 0.0600 - val_accuracy: 0.9815\n",
            "Epoch 65/80\n",
            "864/864 [==============================] - 18s 20ms/step - loss: 0.0906 - accuracy: 0.9769 - val_loss: 0.0589 - val_accuracy: 0.9861\n",
            "Epoch 66/80\n",
            "864/864 [==============================] - 18s 20ms/step - loss: 0.0897 - accuracy: 0.9734 - val_loss: 0.0814 - val_accuracy: 0.9769\n",
            "Epoch 67/80\n",
            "864/864 [==============================] - 17s 20ms/step - loss: 0.0785 - accuracy: 0.9792 - val_loss: 0.0620 - val_accuracy: 0.9861\n",
            "Epoch 68/80\n",
            "864/864 [==============================] - 18s 20ms/step - loss: 0.0813 - accuracy: 0.9711 - val_loss: 0.0708 - val_accuracy: 0.9815\n",
            "Epoch 69/80\n",
            "864/864 [==============================] - 18s 20ms/step - loss: 0.0688 - accuracy: 0.9792 - val_loss: 0.0808 - val_accuracy: 0.9676\n",
            "Epoch 70/80\n",
            "864/864 [==============================] - 18s 20ms/step - loss: 0.0887 - accuracy: 0.9745 - val_loss: 0.0791 - val_accuracy: 0.9815\n",
            "Epoch 71/80\n",
            "864/864 [==============================] - 18s 20ms/step - loss: 0.0815 - accuracy: 0.9745 - val_loss: 0.0726 - val_accuracy: 0.9722\n",
            "Epoch 72/80\n",
            "864/864 [==============================] - 18s 21ms/step - loss: 0.0749 - accuracy: 0.9757 - val_loss: 0.0893 - val_accuracy: 0.9630\n",
            "Epoch 73/80\n",
            "864/864 [==============================] - 18s 20ms/step - loss: 0.0676 - accuracy: 0.9815 - val_loss: 0.0719 - val_accuracy: 0.9769\n",
            "Epoch 74/80\n",
            "864/864 [==============================] - 18s 20ms/step - loss: 0.0633 - accuracy: 0.9780 - val_loss: 0.0631 - val_accuracy: 0.9815\n",
            "Epoch 75/80\n",
            "864/864 [==============================] - 22s 26ms/step - loss: 0.0695 - accuracy: 0.9792 - val_loss: 0.0399 - val_accuracy: 0.9954\n",
            "Epoch 76/80\n",
            "864/864 [==============================] - 17s 20ms/step - loss: 0.0707 - accuracy: 0.9792 - val_loss: 0.0637 - val_accuracy: 0.9815\n",
            "Epoch 77/80\n",
            "864/864 [==============================] - 17s 20ms/step - loss: 0.0854 - accuracy: 0.9734 - val_loss: 0.0814 - val_accuracy: 0.9815\n",
            "Epoch 78/80\n",
            "864/864 [==============================] - 17s 20ms/step - loss: 0.0623 - accuracy: 0.9780 - val_loss: 0.0534 - val_accuracy: 0.9861\n",
            "Epoch 79/80\n",
            "864/864 [==============================] - 17s 20ms/step - loss: 0.0948 - accuracy: 0.9711 - val_loss: 0.0566 - val_accuracy: 0.9861\n",
            "Epoch 80/80\n",
            "864/864 [==============================] - 17s 19ms/step - loss: 0.0683 - accuracy: 0.9815 - val_loss: 0.0462 - val_accuracy: 0.9954\n"
          ],
          "name": "stdout"
        },
        {
          "output_type": "execute_result",
          "data": {
            "text/plain": [
              "<tensorflow.python.keras.callbacks.History at 0x7f7c41e8e978>"
            ]
          },
          "metadata": {
            "tags": []
          },
          "execution_count": 60
        }
      ]
    },
    {
      "cell_type": "code",
      "metadata": {
        "id": "4IzQaFdUiHT1"
      },
      "source": [
        "# !kill 8400\n",
        "%load_ext tensorboard\n",
        "%tensorboard --logdir logs/fit"
      ],
      "execution_count": null,
      "outputs": []
    },
    {
      "cell_type": "code",
      "metadata": {
        "id": "MDX6_1W6j1id",
        "outputId": "488771f6-6a8a-4a8d-dbb5-3d00a65187cf",
        "colab": {
          "base_uri": "https://localhost:8080/"
        }
      },
      "source": [
        "def fix_dimension(img): \n",
        "  new_img = np.zeros((28,28,3))\n",
        "  for i in range(3):\n",
        "    new_img[:,:,i] = img\n",
        "  return new_img\n",
        "  \n",
        "def show_results():\n",
        "    dic = {}\n",
        "    characters = '0123456789ABCDEFGHIJKLMNOPQRSTUVWXYZ'\n",
        "    for i,c in enumerate(characters):\n",
        "        dic[i] = c\n",
        "\n",
        "    output = []\n",
        "    for i,ch in enumerate(char): #iterating over the characters\n",
        "        img_ = cv2.resize(ch, (28,28))\n",
        "        img = fix_dimension(img_)\n",
        "        img = img.reshape(1,28,28,3) #preparing image for the model\n",
        "        y_ = model.predict_classes(img)[0] #predicting the class\n",
        "        character = dic[y_] #\n",
        "        output.append(character) #storing the result in a list\n",
        "        \n",
        "    plate_number = ''.join(output)\n",
        "    \n",
        "    return plate_number\n",
        "\n",
        "print(show_results())"
      ],
      "execution_count": 67,
      "outputs": [
        {
          "output_type": "stream",
          "text": [
            "0L8CAF5030\n"
          ],
          "name": "stdout"
        }
      ]
    },
    {
      "cell_type": "code",
      "metadata": {
        "id": "kAJYGxBIj4Se",
        "outputId": "3d7a8033-02d2-46bd-ed88-58ae634143fb",
        "colab": {
          "base_uri": "https://localhost:8080/",
          "height": 373
        }
      },
      "source": [
        "plt.figure(figsize=(10,6))\n",
        "for i,ch in enumerate(char):\n",
        "    img = cv2.resize(ch, (28,28))\n",
        "    plt.subplot(3,4,i+1)\n",
        "    plt.imshow(img,cmap='gray')\n",
        "    plt.title(f'predicted: {show_results()[i]}')\n",
        "    plt.axis('off')\n",
        "plt.show()"
      ],
      "execution_count": 68,
      "outputs": [
        {
          "output_type": "display_data",
          "data": {
            "image/png": "[encoded data removed]",
            "text/plain": [
              "<Figure size 720x432 with 10 Axes>"
            ]
          },
          "metadata": {
            "tags": [],
            "needs_background": "light"
          }
        }
      ]
    },
    {
      "cell_type": "code",
      "metadata": {
        "id": "2QvDSnyXppEy"
      },
      "source": [
        ""
      ],
      "execution_count": null,
      "outputs": []
    }
  ]
}
